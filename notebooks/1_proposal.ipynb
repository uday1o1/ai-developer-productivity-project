{
  "cells": [
    {
      "metadata": {
        "id": "24b30d89649872af"
      },
      "cell_type": "markdown",
      "source": [
        "# **Introduction**\n",
        "\n",
        "I selected the Ai Developer Productivity dataset because it focuses on factors that influence daily productivity for developers, including coding hours, caffeine intake, distractions, sleep, and the use of ai tools. this dataset is appealing because it combines both continuous numerical variables and a categorical outcome variable (`task_success`), which makes it suitable for exploratory analysis and statistical techniques like hypothesis testing and regression.\n",
        "\n",
        "The main curiosity driving this project is to understand what influences whether a developer successfully completes their daily task. some of the specific questions I want to answer include:\n",
        "- does more time spent coding actually lead to higher productivity?\n",
        "- is higher caffeine intake associated with more commits or fewer bugs?\n",
        "- do sleep hours or distractions play a significant role in task completion?\n",
        "- can we predict task success using a combination of developer behavior metrics?\n",
        "\n",
        "If I imagine myself as a stakeholder, such as a team manager or a productivity consultant, I would want to make decisions about how to improve developer efficiency and well-being. from this data, I would need to know which factors (sleep, caffeine, coding hours, AI usage, etc.) have the strongest relationship with task success, so I could recommend evidence-based practices for better outcomes.\n"
      ],
      "id": "24b30d89649872af"
    },
    {
      "metadata": {
        "id": "3f036777ea96ce58"
      },
      "cell_type": "markdown",
      "source": [
        "# **Data**\n",
        "\n",
        "## Data Source\n",
        "The dataset used in this project is the [ai developer productivity dataset](https://www.kaggle.com/datasets/atharvasoundankar/ai-developer-productivity-dataset) hosted on kaggle.\n",
        "\n",
        "## Data Collection\n",
        "The dataset is synthetic, generated to simulate daily productivity of developers over a period of about 500 consecutive days. it includes variables related to work habits, caffeine intake, distractions, sleep, and use of ai tools. since it is simulated, results represent associations in the data but not necessarily real-world causal relationships.  \n",
        "\n",
        "## Cases\n",
        "Each row in the dataset represents **one day of developer activity**.\n",
        "\n",
        "## Variables\n",
        "the dataset contains both numeric and categorical variables:\n",
        "- `hours_coding` (continuous, hours spent coding)\n",
        "- `coffee_intake_mg` (continuous, caffeine intake in mg)\n",
        "- `distractions` (discrete numeric, number of distractions)\n",
        "- `sleep_hours` (continuous, hours of sleep)\n",
        "- `commits` (discrete numeric, commits pushed)\n",
        "- `bugs_reported` (discrete numeric, number of bugs reported)\n",
        "- `ai_usage_hours` (continuous, hours spent using ai tools)\n",
        "- `cognitive_load` (ordinal numeric, self-reported scale 1–10)\n",
        "- `task_success` (categorical, 1 = goal achieved, 0 = goal not achieved)\n",
        "\n",
        "## Type of study\n",
        "This is an **observational (simulated) study**, not an experiment. no interventions were performed; data captures simulated daily patterns.\n"
      ],
      "id": "3f036777ea96ce58"
    },
    {
      "metadata": {
        "jupyter": {
          "is_executing": true
        },
        "colab": {
          "base_uri": "https://localhost:8080/",
          "height": 226
        },
        "id": "f76e1028fc77a360",
        "outputId": "ce0560cc-336f-4c7b-c7f6-7976a2e958dd"
      },
      "cell_type": "code",
      "source": [
        "import pandas as pd\n",
        "df = pd.read_csv(\"/content/ai_dev_productivity.csv\")\n",
        "df.head()"
      ],
      "id": "f76e1028fc77a360",
      "outputs": [
        {
          "output_type": "execute_result",
          "data": {
            "text/plain": [
              "   hours_coding  coffee_intake_mg  distractions  sleep_hours  commits  \\\n",
              "0          5.99               600             1          5.8        2   \n",
              "1          4.72               568             2          6.9        5   \n",
              "2          6.30               560             1          8.9        2   \n",
              "3          8.05               600             7          6.3        9   \n",
              "4          4.53               421             6          6.9        4   \n",
              "\n",
              "   bugs_reported  ai_usage_hours  cognitive_load  task_success  \n",
              "0              1            0.71             5.4             1  \n",
              "1              3            1.75             4.7             1  \n",
              "2              0            2.27             2.2             1  \n",
              "3              5            1.40             5.9             0  \n",
              "4              0            1.26             6.3             1  "
            ],
            "text/html": [
              "\n",
              "  <div id=\"df-56f2c5d0-0030-411c-b718-56cf86e16e82\" class=\"colab-df-container\">\n",
              "    <div>\n",
              "<style scoped>\n",
              "    .dataframe tbody tr th:only-of-type {\n",
              "        vertical-align: middle;\n",
              "    }\n",
              "\n",
              "    .dataframe tbody tr th {\n",
              "        vertical-align: top;\n",
              "    }\n",
              "\n",
              "    .dataframe thead th {\n",
              "        text-align: right;\n",
              "    }\n",
              "</style>\n",
              "<table border=\"1\" class=\"dataframe\">\n",
              "  <thead>\n",
              "    <tr style=\"text-align: right;\">\n",
              "      <th></th>\n",
              "      <th>hours_coding</th>\n",
              "      <th>coffee_intake_mg</th>\n",
              "      <th>distractions</th>\n",
              "      <th>sleep_hours</th>\n",
              "      <th>commits</th>\n",
              "      <th>bugs_reported</th>\n",
              "      <th>ai_usage_hours</th>\n",
              "      <th>cognitive_load</th>\n",
              "      <th>task_success</th>\n",
              "    </tr>\n",
              "  </thead>\n",
              "  <tbody>\n",
              "    <tr>\n",
              "      <th>0</th>\n",
              "      <td>5.99</td>\n",
              "      <td>600</td>\n",
              "      <td>1</td>\n",
              "      <td>5.8</td>\n",
              "      <td>2</td>\n",
              "      <td>1</td>\n",
              "      <td>0.71</td>\n",
              "      <td>5.4</td>\n",
              "      <td>1</td>\n",
              "    </tr>\n",
              "    <tr>\n",
              "      <th>1</th>\n",
              "      <td>4.72</td>\n",
              "      <td>568</td>\n",
              "      <td>2</td>\n",
              "      <td>6.9</td>\n",
              "      <td>5</td>\n",
              "      <td>3</td>\n",
              "      <td>1.75</td>\n",
              "      <td>4.7</td>\n",
              "      <td>1</td>\n",
              "    </tr>\n",
              "    <tr>\n",
              "      <th>2</th>\n",
              "      <td>6.30</td>\n",
              "      <td>560</td>\n",
              "      <td>1</td>\n",
              "      <td>8.9</td>\n",
              "      <td>2</td>\n",
              "      <td>0</td>\n",
              "      <td>2.27</td>\n",
              "      <td>2.2</td>\n",
              "      <td>1</td>\n",
              "    </tr>\n",
              "    <tr>\n",
              "      <th>3</th>\n",
              "      <td>8.05</td>\n",
              "      <td>600</td>\n",
              "      <td>7</td>\n",
              "      <td>6.3</td>\n",
              "      <td>9</td>\n",
              "      <td>5</td>\n",
              "      <td>1.40</td>\n",
              "      <td>5.9</td>\n",
              "      <td>0</td>\n",
              "    </tr>\n",
              "    <tr>\n",
              "      <th>4</th>\n",
              "      <td>4.53</td>\n",
              "      <td>421</td>\n",
              "      <td>6</td>\n",
              "      <td>6.9</td>\n",
              "      <td>4</td>\n",
              "      <td>0</td>\n",
              "      <td>1.26</td>\n",
              "      <td>6.3</td>\n",
              "      <td>1</td>\n",
              "    </tr>\n",
              "  </tbody>\n",
              "</table>\n",
              "</div>\n",
              "    <div class=\"colab-df-buttons\">\n",
              "\n",
              "  <div class=\"colab-df-container\">\n",
              "    <button class=\"colab-df-convert\" onclick=\"convertToInteractive('df-56f2c5d0-0030-411c-b718-56cf86e16e82')\"\n",
              "            title=\"Convert this dataframe to an interactive table.\"\n",
              "            style=\"display:none;\">\n",
              "\n",
              "  <svg xmlns=\"http://www.w3.org/2000/svg\" height=\"24px\" viewBox=\"0 -960 960 960\">\n",
              "    <path d=\"M120-120v-720h720v720H120Zm60-500h600v-160H180v160Zm220 220h160v-160H400v160Zm0 220h160v-160H400v160ZM180-400h160v-160H180v160Zm440 0h160v-160H620v160ZM180-180h160v-160H180v160Zm440 0h160v-160H620v160Z\"/>\n",
              "  </svg>\n",
              "    </button>\n",
              "\n",
              "  <style>\n",
              "    .colab-df-container {\n",
              "      display:flex;\n",
              "      gap: 12px;\n",
              "    }\n",
              "\n",
              "    .colab-df-convert {\n",
              "      background-color: #E8F0FE;\n",
              "      border: none;\n",
              "      border-radius: 50%;\n",
              "      cursor: pointer;\n",
              "      display: none;\n",
              "      fill: #1967D2;\n",
              "      height: 32px;\n",
              "      padding: 0 0 0 0;\n",
              "      width: 32px;\n",
              "    }\n",
              "\n",
              "    .colab-df-convert:hover {\n",
              "      background-color: #E2EBFA;\n",
              "      box-shadow: 0px 1px 2px rgba(60, 64, 67, 0.3), 0px 1px 3px 1px rgba(60, 64, 67, 0.15);\n",
              "      fill: #174EA6;\n",
              "    }\n",
              "\n",
              "    .colab-df-buttons div {\n",
              "      margin-bottom: 4px;\n",
              "    }\n",
              "\n",
              "    [theme=dark] .colab-df-convert {\n",
              "      background-color: #3B4455;\n",
              "      fill: #D2E3FC;\n",
              "    }\n",
              "\n",
              "    [theme=dark] .colab-df-convert:hover {\n",
              "      background-color: #434B5C;\n",
              "      box-shadow: 0px 1px 3px 1px rgba(0, 0, 0, 0.15);\n",
              "      filter: drop-shadow(0px 1px 2px rgba(0, 0, 0, 0.3));\n",
              "      fill: #FFFFFF;\n",
              "    }\n",
              "  </style>\n",
              "\n",
              "    <script>\n",
              "      const buttonEl =\n",
              "        document.querySelector('#df-56f2c5d0-0030-411c-b718-56cf86e16e82 button.colab-df-convert');\n",
              "      buttonEl.style.display =\n",
              "        google.colab.kernel.accessAllowed ? 'block' : 'none';\n",
              "\n",
              "      async function convertToInteractive(key) {\n",
              "        const element = document.querySelector('#df-56f2c5d0-0030-411c-b718-56cf86e16e82');\n",
              "        const dataTable =\n",
              "          await google.colab.kernel.invokeFunction('convertToInteractive',\n",
              "                                                    [key], {});\n",
              "        if (!dataTable) return;\n",
              "\n",
              "        const docLinkHtml = 'Like what you see? Visit the ' +\n",
              "          '<a target=\"_blank\" href=https://colab.research.google.com/notebooks/data_table.ipynb>data table notebook</a>'\n",
              "          + ' to learn more about interactive tables.';\n",
              "        element.innerHTML = '';\n",
              "        dataTable['output_type'] = 'display_data';\n",
              "        await google.colab.output.renderOutput(dataTable, element);\n",
              "        const docLink = document.createElement('div');\n",
              "        docLink.innerHTML = docLinkHtml;\n",
              "        element.appendChild(docLink);\n",
              "      }\n",
              "    </script>\n",
              "  </div>\n",
              "\n",
              "\n",
              "    <div id=\"df-b4ea01c4-4e2e-47b3-af13-09122eec68df\">\n",
              "      <button class=\"colab-df-quickchart\" onclick=\"quickchart('df-b4ea01c4-4e2e-47b3-af13-09122eec68df')\"\n",
              "                title=\"Suggest charts\"\n",
              "                style=\"display:none;\">\n",
              "\n",
              "<svg xmlns=\"http://www.w3.org/2000/svg\" height=\"24px\"viewBox=\"0 0 24 24\"\n",
              "     width=\"24px\">\n",
              "    <g>\n",
              "        <path d=\"M19 3H5c-1.1 0-2 .9-2 2v14c0 1.1.9 2 2 2h14c1.1 0 2-.9 2-2V5c0-1.1-.9-2-2-2zM9 17H7v-7h2v7zm4 0h-2V7h2v10zm4 0h-2v-4h2v4z\"/>\n",
              "    </g>\n",
              "</svg>\n",
              "      </button>\n",
              "\n",
              "<style>\n",
              "  .colab-df-quickchart {\n",
              "      --bg-color: #E8F0FE;\n",
              "      --fill-color: #1967D2;\n",
              "      --hover-bg-color: #E2EBFA;\n",
              "      --hover-fill-color: #174EA6;\n",
              "      --disabled-fill-color: #AAA;\n",
              "      --disabled-bg-color: #DDD;\n",
              "  }\n",
              "\n",
              "  [theme=dark] .colab-df-quickchart {\n",
              "      --bg-color: #3B4455;\n",
              "      --fill-color: #D2E3FC;\n",
              "      --hover-bg-color: #434B5C;\n",
              "      --hover-fill-color: #FFFFFF;\n",
              "      --disabled-bg-color: #3B4455;\n",
              "      --disabled-fill-color: #666;\n",
              "  }\n",
              "\n",
              "  .colab-df-quickchart {\n",
              "    background-color: var(--bg-color);\n",
              "    border: none;\n",
              "    border-radius: 50%;\n",
              "    cursor: pointer;\n",
              "    display: none;\n",
              "    fill: var(--fill-color);\n",
              "    height: 32px;\n",
              "    padding: 0;\n",
              "    width: 32px;\n",
              "  }\n",
              "\n",
              "  .colab-df-quickchart:hover {\n",
              "    background-color: var(--hover-bg-color);\n",
              "    box-shadow: 0 1px 2px rgba(60, 64, 67, 0.3), 0 1px 3px 1px rgba(60, 64, 67, 0.15);\n",
              "    fill: var(--button-hover-fill-color);\n",
              "  }\n",
              "\n",
              "  .colab-df-quickchart-complete:disabled,\n",
              "  .colab-df-quickchart-complete:disabled:hover {\n",
              "    background-color: var(--disabled-bg-color);\n",
              "    fill: var(--disabled-fill-color);\n",
              "    box-shadow: none;\n",
              "  }\n",
              "\n",
              "  .colab-df-spinner {\n",
              "    border: 2px solid var(--fill-color);\n",
              "    border-color: transparent;\n",
              "    border-bottom-color: var(--fill-color);\n",
              "    animation:\n",
              "      spin 1s steps(1) infinite;\n",
              "  }\n",
              "\n",
              "  @keyframes spin {\n",
              "    0% {\n",
              "      border-color: transparent;\n",
              "      border-bottom-color: var(--fill-color);\n",
              "      border-left-color: var(--fill-color);\n",
              "    }\n",
              "    20% {\n",
              "      border-color: transparent;\n",
              "      border-left-color: var(--fill-color);\n",
              "      border-top-color: var(--fill-color);\n",
              "    }\n",
              "    30% {\n",
              "      border-color: transparent;\n",
              "      border-left-color: var(--fill-color);\n",
              "      border-top-color: var(--fill-color);\n",
              "      border-right-color: var(--fill-color);\n",
              "    }\n",
              "    40% {\n",
              "      border-color: transparent;\n",
              "      border-right-color: var(--fill-color);\n",
              "      border-top-color: var(--fill-color);\n",
              "    }\n",
              "    60% {\n",
              "      border-color: transparent;\n",
              "      border-right-color: var(--fill-color);\n",
              "    }\n",
              "    80% {\n",
              "      border-color: transparent;\n",
              "      border-right-color: var(--fill-color);\n",
              "      border-bottom-color: var(--fill-color);\n",
              "    }\n",
              "    90% {\n",
              "      border-color: transparent;\n",
              "      border-bottom-color: var(--fill-color);\n",
              "    }\n",
              "  }\n",
              "</style>\n",
              "\n",
              "      <script>\n",
              "        async function quickchart(key) {\n",
              "          const quickchartButtonEl =\n",
              "            document.querySelector('#' + key + ' button');\n",
              "          quickchartButtonEl.disabled = true;  // To prevent multiple clicks.\n",
              "          quickchartButtonEl.classList.add('colab-df-spinner');\n",
              "          try {\n",
              "            const charts = await google.colab.kernel.invokeFunction(\n",
              "                'suggestCharts', [key], {});\n",
              "          } catch (error) {\n",
              "            console.error('Error during call to suggestCharts:', error);\n",
              "          }\n",
              "          quickchartButtonEl.classList.remove('colab-df-spinner');\n",
              "          quickchartButtonEl.classList.add('colab-df-quickchart-complete');\n",
              "        }\n",
              "        (() => {\n",
              "          let quickchartButtonEl =\n",
              "            document.querySelector('#df-b4ea01c4-4e2e-47b3-af13-09122eec68df button');\n",
              "          quickchartButtonEl.style.display =\n",
              "            google.colab.kernel.accessAllowed ? 'block' : 'none';\n",
              "        })();\n",
              "      </script>\n",
              "    </div>\n",
              "\n",
              "    </div>\n",
              "  </div>\n"
            ],
            "application/vnd.google.colaboratory.intrinsic+json": {
              "type": "dataframe",
              "variable_name": "df",
              "summary": "{\n  \"name\": \"df\",\n  \"rows\": 500,\n  \"fields\": [\n    {\n      \"column\": \"hours_coding\",\n      \"properties\": {\n        \"dtype\": \"number\",\n        \"std\": 1.9472530984077328,\n        \"min\": 0.0,\n        \"max\": 12.0,\n        \"num_unique_values\": 353,\n        \"samples\": [\n          3.15,\n          3.56,\n          2.48\n        ],\n        \"semantic_type\": \"\",\n        \"description\": \"\"\n      }\n    },\n    {\n      \"column\": \"coffee_intake_mg\",\n      \"properties\": {\n        \"dtype\": \"number\",\n        \"std\": 142,\n        \"min\": 6,\n        \"max\": 600,\n        \"num_unique_values\": 244,\n        \"samples\": [\n          396,\n          567,\n          283\n        ],\n        \"semantic_type\": \"\",\n        \"description\": \"\"\n      }\n    },\n    {\n      \"column\": \"distractions\",\n      \"properties\": {\n        \"dtype\": \"number\",\n        \"std\": 1,\n        \"min\": 0,\n        \"max\": 8,\n        \"num_unique_values\": 9,\n        \"samples\": [\n          3,\n          2,\n          5\n        ],\n        \"semantic_type\": \"\",\n        \"description\": \"\"\n      }\n    },\n    {\n      \"column\": \"sleep_hours\",\n      \"properties\": {\n        \"dtype\": \"number\",\n        \"std\": 1.4559649817410159,\n        \"min\": 3.0,\n        \"max\": 10.0,\n        \"num_unique_values\": 67,\n        \"samples\": [\n          4.9,\n          8.0,\n          7.1\n        ],\n        \"semantic_type\": \"\",\n        \"description\": \"\"\n      }\n    },\n    {\n      \"column\": \"commits\",\n      \"properties\": {\n        \"dtype\": \"number\",\n        \"std\": 2,\n        \"min\": 0,\n        \"max\": 13,\n        \"num_unique_values\": 14,\n        \"samples\": [\n          8,\n          10,\n          2\n        ],\n        \"semantic_type\": \"\",\n        \"description\": \"\"\n      }\n    },\n    {\n      \"column\": \"bugs_reported\",\n      \"properties\": {\n        \"dtype\": \"number\",\n        \"std\": 1,\n        \"min\": 0,\n        \"max\": 5,\n        \"num_unique_values\": 6,\n        \"samples\": [\n          1,\n          3,\n          4\n        ],\n        \"semantic_type\": \"\",\n        \"description\": \"\"\n      }\n    },\n    {\n      \"column\": \"ai_usage_hours\",\n      \"properties\": {\n        \"dtype\": \"number\",\n        \"std\": 1.0855573790668513,\n        \"min\": 0.0,\n        \"max\": 6.36,\n        \"num_unique_values\": 260,\n        \"samples\": [\n          1.55,\n          1.81,\n          0.54\n        ],\n        \"semantic_type\": \"\",\n        \"description\": \"\"\n      }\n    },\n    {\n      \"column\": \"cognitive_load\",\n      \"properties\": {\n        \"dtype\": \"number\",\n        \"std\": 1.8688611623360842,\n        \"min\": 1.0,\n        \"max\": 10.0,\n        \"num_unique_values\": 79,\n        \"samples\": [\n          4.9,\n          5.4,\n          1.3\n        ],\n        \"semantic_type\": \"\",\n        \"description\": \"\"\n      }\n    },\n    {\n      \"column\": \"task_success\",\n      \"properties\": {\n        \"dtype\": \"number\",\n        \"std\": 0,\n        \"min\": 0,\n        \"max\": 1,\n        \"num_unique_values\": 2,\n        \"samples\": [\n          0,\n          1\n        ],\n        \"semantic_type\": \"\",\n        \"description\": \"\"\n      }\n    }\n  ]\n}"
            }
          },
          "metadata": {},
          "execution_count": 3
        }
      ],
      "execution_count": 3
    },
    {
      "cell_type": "code",
      "source": [
        "df.shape"
      ],
      "metadata": {
        "colab": {
          "base_uri": "https://localhost:8080/"
        },
        "id": "scfneYXRbNpS",
        "outputId": "46d553ff-c27e-4e87-c37a-6b5545ef1cd9"
      },
      "id": "scfneYXRbNpS",
      "execution_count": 4,
      "outputs": [
        {
          "output_type": "execute_result",
          "data": {
            "text/plain": [
              "(500, 9)"
            ]
          },
          "metadata": {},
          "execution_count": 4
        }
      ]
    },
    {
      "cell_type": "code",
      "source": [
        "df.info()"
      ],
      "metadata": {
        "colab": {
          "base_uri": "https://localhost:8080/"
        },
        "id": "ZKIBYIkjbQJr",
        "outputId": "b9afda30-faf8-4480-a5ac-871891526689"
      },
      "id": "ZKIBYIkjbQJr",
      "execution_count": 5,
      "outputs": [
        {
          "output_type": "stream",
          "name": "stdout",
          "text": [
            "<class 'pandas.core.frame.DataFrame'>\n",
            "RangeIndex: 500 entries, 0 to 499\n",
            "Data columns (total 9 columns):\n",
            " #   Column            Non-Null Count  Dtype  \n",
            "---  ------            --------------  -----  \n",
            " 0   hours_coding      500 non-null    float64\n",
            " 1   coffee_intake_mg  500 non-null    int64  \n",
            " 2   distractions      500 non-null    int64  \n",
            " 3   sleep_hours       500 non-null    float64\n",
            " 4   commits           500 non-null    int64  \n",
            " 5   bugs_reported     500 non-null    int64  \n",
            " 6   ai_usage_hours    500 non-null    float64\n",
            " 7   cognitive_load    500 non-null    float64\n",
            " 8   task_success      500 non-null    int64  \n",
            "dtypes: float64(4), int64(5)\n",
            "memory usage: 35.3 KB\n"
          ]
        }
      ]
    },
    {
      "cell_type": "markdown",
      "source": [
        "# **Goal (research questions)**\n",
        "\n",
        "The purpose of this project is to explore what factors influence a developer’s productivity and likelihood of completing their daily task. the dataset contains both continuous and categorical variables, which allows for a range of analyses.\n",
        "\n",
        "The main research questions are:\n",
        "\n",
        "1. does spending more hours coding increase the chances of completing the daily task?  \n",
        "   - categorical vs continuous (task_success ~ hours_coding)  \n",
        "\n",
        "2. is there a relationship between caffeine intake (`coffee_intake_mg`) and productivity outcomes such as commits made or bugs reported?  \n",
        "   - continuous vs continuous (coffee_intake_mg ~ commits / bugs_reported)  \n",
        "\n",
        "3. do sleep hours or distractions significantly impact the probability of task success?  \n",
        "   - categorical vs continuous (task_success ~ sleep_hours, distractions)  \n",
        "\n",
        "4. can we build a regression model to predict task success using multiple factors (coding hours, sleep, distractions, ai usage, caffeine)?  \n",
        "   - logistic regression (binary outcome: task_success)  \n",
        "\n",
        "5. are there underlying patterns in developer behavior across days that can be summarized using principal component analysis (pca)?"
      ],
      "metadata": {
        "id": "3kQuBa1jbiEz"
      },
      "id": "3kQuBa1jbiEz"
    },
    {
      "cell_type": "markdown",
      "source": [
        "# **Data quality checks**\n",
        "\n",
        "In this step I will assess data quality by checking:\n",
        "- missing values and duplicates\n",
        "- data types and simple range sanity checks\n",
        "- basic distributions and class balance for `task_success`\n",
        "- potential outliers in numeric variables\n",
        "\n",
        "I will also perform cleaning if needed (drop exact duplicates, standardize boolean/categorical formats).\n",
        "\n",
        "Because this dataset is synthetic, extreme values and outliers may be deliberately included to simulate unusual developer days. these will be noted rather than automatically removed.\n"
      ],
      "metadata": {
        "id": "2TaLkd6ocJQX"
      },
      "id": "2TaLkd6ocJQX"
    },
    {
      "cell_type": "code",
      "source": [
        "import numpy as np\n",
        "# identify numeric and non-numeric columns\n",
        "num_cols = df.select_dtypes(include=[np.number]).columns.tolist()\n",
        "cat_cols = [c for c in df.columns if c not in num_cols]\n",
        "num_cols, cat_cols"
      ],
      "metadata": {
        "colab": {
          "base_uri": "https://localhost:8080/"
        },
        "id": "6yKruLfKcVdo",
        "outputId": "5e6b47a3-2ab5-4326-e7f4-b480c62782ad"
      },
      "id": "6yKruLfKcVdo",
      "execution_count": 6,
      "outputs": [
        {
          "output_type": "execute_result",
          "data": {
            "text/plain": [
              "(['hours_coding',\n",
              "  'coffee_intake_mg',\n",
              "  'distractions',\n",
              "  'sleep_hours',\n",
              "  'commits',\n",
              "  'bugs_reported',\n",
              "  'ai_usage_hours',\n",
              "  'cognitive_load',\n",
              "  'task_success'],\n",
              " [])"
            ]
          },
          "metadata": {},
          "execution_count": 6
        }
      ]
    },
    {
      "cell_type": "markdown",
      "source": [
        "Even though \"task_success\" here is numerical column but it is not continous rather categorical as it is just binary i.e. either 0 or 1 based of if task not completed or completed respectively."
      ],
      "metadata": {
        "id": "vif1fH1JcZPC"
      },
      "id": "vif1fH1JcZPC"
    },
    {
      "cell_type": "code",
      "source": [
        "# compute missing values per column\n",
        "df.isna().sum().sort_values(ascending=False)"
      ],
      "metadata": {
        "colab": {
          "base_uri": "https://localhost:8080/",
          "height": 366
        },
        "id": "APpYCxwAcyKn",
        "outputId": "1edd008a-f88f-4de6-d790-a35587cfc058"
      },
      "id": "APpYCxwAcyKn",
      "execution_count": 7,
      "outputs": [
        {
          "output_type": "execute_result",
          "data": {
            "text/plain": [
              "hours_coding        0\n",
              "coffee_intake_mg    0\n",
              "distractions        0\n",
              "sleep_hours         0\n",
              "commits             0\n",
              "bugs_reported       0\n",
              "ai_usage_hours      0\n",
              "cognitive_load      0\n",
              "task_success        0\n",
              "dtype: int64"
            ],
            "text/html": [
              "<div>\n",
              "<style scoped>\n",
              "    .dataframe tbody tr th:only-of-type {\n",
              "        vertical-align: middle;\n",
              "    }\n",
              "\n",
              "    .dataframe tbody tr th {\n",
              "        vertical-align: top;\n",
              "    }\n",
              "\n",
              "    .dataframe thead th {\n",
              "        text-align: right;\n",
              "    }\n",
              "</style>\n",
              "<table border=\"1\" class=\"dataframe\">\n",
              "  <thead>\n",
              "    <tr style=\"text-align: right;\">\n",
              "      <th></th>\n",
              "      <th>0</th>\n",
              "    </tr>\n",
              "  </thead>\n",
              "  <tbody>\n",
              "    <tr>\n",
              "      <th>hours_coding</th>\n",
              "      <td>0</td>\n",
              "    </tr>\n",
              "    <tr>\n",
              "      <th>coffee_intake_mg</th>\n",
              "      <td>0</td>\n",
              "    </tr>\n",
              "    <tr>\n",
              "      <th>distractions</th>\n",
              "      <td>0</td>\n",
              "    </tr>\n",
              "    <tr>\n",
              "      <th>sleep_hours</th>\n",
              "      <td>0</td>\n",
              "    </tr>\n",
              "    <tr>\n",
              "      <th>commits</th>\n",
              "      <td>0</td>\n",
              "    </tr>\n",
              "    <tr>\n",
              "      <th>bugs_reported</th>\n",
              "      <td>0</td>\n",
              "    </tr>\n",
              "    <tr>\n",
              "      <th>ai_usage_hours</th>\n",
              "      <td>0</td>\n",
              "    </tr>\n",
              "    <tr>\n",
              "      <th>cognitive_load</th>\n",
              "      <td>0</td>\n",
              "    </tr>\n",
              "    <tr>\n",
              "      <th>task_success</th>\n",
              "      <td>0</td>\n",
              "    </tr>\n",
              "  </tbody>\n",
              "</table>\n",
              "</div><br><label><b>dtype:</b> int64</label>"
            ]
          },
          "metadata": {},
          "execution_count": 7
        }
      ]
    },
    {
      "cell_type": "code",
      "source": [
        "# check for fully duplicated rows\n",
        "df.duplicated().sum()"
      ],
      "metadata": {
        "colab": {
          "base_uri": "https://localhost:8080/"
        },
        "id": "Vvf-xi4uc0qx",
        "outputId": "39eb55de-2fe6-4801-eaa4-ad85f63617bc"
      },
      "id": "Vvf-xi4uc0qx",
      "execution_count": 8,
      "outputs": [
        {
          "output_type": "execute_result",
          "data": {
            "text/plain": [
              "np.int64(0)"
            ]
          },
          "metadata": {},
          "execution_count": 8
        }
      ]
    },
    {
      "cell_type": "code",
      "source": [
        "# if duplicates exist, will remove them, nothing here so commented\n",
        "# df = df.drop_duplicates()\n",
        "# df.shape"
      ],
      "metadata": {
        "id": "TTNLC11bc5E2"
      },
      "id": "TTNLC11bc5E2",
      "execution_count": null,
      "outputs": []
    },
    {
      "cell_type": "code",
      "source": [
        "# view numeric summary statistics\n",
        "df[num_cols].describe().T"
      ],
      "metadata": {
        "colab": {
          "base_uri": "https://localhost:8080/",
          "height": 352
        },
        "id": "X2GhJ3lLc9xE",
        "outputId": "9dcbb29d-3ea8-41f5-fe2e-8ac5eefb9c0b"
      },
      "id": "X2GhJ3lLc9xE",
      "execution_count": 9,
      "outputs": [
        {
          "output_type": "execute_result",
          "data": {
            "text/plain": [
              "                  count       mean         std  min       25%     50%  \\\n",
              "hours_coding      500.0    5.01560    1.947253  0.0    3.6000    5.03   \n",
              "coffee_intake_mg  500.0  463.19200  142.334991  6.0  369.5000  500.50   \n",
              "distractions      500.0    2.97600    1.678409  0.0    2.0000    3.00   \n",
              "sleep_hours       500.0    6.97580    1.455965  3.0    6.1000    6.95   \n",
              "commits           500.0    4.60800    2.704990  0.0    3.0000    5.00   \n",
              "bugs_reported     500.0    0.85800    1.102846  0.0    0.0000    0.00   \n",
              "ai_usage_hours    500.0    1.51092    1.085557  0.0    0.6975    1.26   \n",
              "cognitive_load    500.0    4.49820    1.868861  1.0    3.1750    4.40   \n",
              "task_success      500.0    0.60600    0.489124  0.0    0.0000    1.00   \n",
              "\n",
              "                      75%     max  \n",
              "hours_coding        6.275   12.00  \n",
              "coffee_intake_mg  600.000  600.00  \n",
              "distractions        4.000    8.00  \n",
              "sleep_hours         7.900   10.00  \n",
              "commits             6.000   13.00  \n",
              "bugs_reported       2.000    5.00  \n",
              "ai_usage_hours      2.070    6.36  \n",
              "cognitive_load      5.800   10.00  \n",
              "task_success        1.000    1.00  "
            ],
            "text/html": [
              "\n",
              "  <div id=\"df-75b9a326-7599-4f9c-8183-cbef80ee2e76\" class=\"colab-df-container\">\n",
              "    <div>\n",
              "<style scoped>\n",
              "    .dataframe tbody tr th:only-of-type {\n",
              "        vertical-align: middle;\n",
              "    }\n",
              "\n",
              "    .dataframe tbody tr th {\n",
              "        vertical-align: top;\n",
              "    }\n",
              "\n",
              "    .dataframe thead th {\n",
              "        text-align: right;\n",
              "    }\n",
              "</style>\n",
              "<table border=\"1\" class=\"dataframe\">\n",
              "  <thead>\n",
              "    <tr style=\"text-align: right;\">\n",
              "      <th></th>\n",
              "      <th>count</th>\n",
              "      <th>mean</th>\n",
              "      <th>std</th>\n",
              "      <th>min</th>\n",
              "      <th>25%</th>\n",
              "      <th>50%</th>\n",
              "      <th>75%</th>\n",
              "      <th>max</th>\n",
              "    </tr>\n",
              "  </thead>\n",
              "  <tbody>\n",
              "    <tr>\n",
              "      <th>hours_coding</th>\n",
              "      <td>500.0</td>\n",
              "      <td>5.01560</td>\n",
              "      <td>1.947253</td>\n",
              "      <td>0.0</td>\n",
              "      <td>3.6000</td>\n",
              "      <td>5.03</td>\n",
              "      <td>6.275</td>\n",
              "      <td>12.00</td>\n",
              "    </tr>\n",
              "    <tr>\n",
              "      <th>coffee_intake_mg</th>\n",
              "      <td>500.0</td>\n",
              "      <td>463.19200</td>\n",
              "      <td>142.334991</td>\n",
              "      <td>6.0</td>\n",
              "      <td>369.5000</td>\n",
              "      <td>500.50</td>\n",
              "      <td>600.000</td>\n",
              "      <td>600.00</td>\n",
              "    </tr>\n",
              "    <tr>\n",
              "      <th>distractions</th>\n",
              "      <td>500.0</td>\n",
              "      <td>2.97600</td>\n",
              "      <td>1.678409</td>\n",
              "      <td>0.0</td>\n",
              "      <td>2.0000</td>\n",
              "      <td>3.00</td>\n",
              "      <td>4.000</td>\n",
              "      <td>8.00</td>\n",
              "    </tr>\n",
              "    <tr>\n",
              "      <th>sleep_hours</th>\n",
              "      <td>500.0</td>\n",
              "      <td>6.97580</td>\n",
              "      <td>1.455965</td>\n",
              "      <td>3.0</td>\n",
              "      <td>6.1000</td>\n",
              "      <td>6.95</td>\n",
              "      <td>7.900</td>\n",
              "      <td>10.00</td>\n",
              "    </tr>\n",
              "    <tr>\n",
              "      <th>commits</th>\n",
              "      <td>500.0</td>\n",
              "      <td>4.60800</td>\n",
              "      <td>2.704990</td>\n",
              "      <td>0.0</td>\n",
              "      <td>3.0000</td>\n",
              "      <td>5.00</td>\n",
              "      <td>6.000</td>\n",
              "      <td>13.00</td>\n",
              "    </tr>\n",
              "    <tr>\n",
              "      <th>bugs_reported</th>\n",
              "      <td>500.0</td>\n",
              "      <td>0.85800</td>\n",
              "      <td>1.102846</td>\n",
              "      <td>0.0</td>\n",
              "      <td>0.0000</td>\n",
              "      <td>0.00</td>\n",
              "      <td>2.000</td>\n",
              "      <td>5.00</td>\n",
              "    </tr>\n",
              "    <tr>\n",
              "      <th>ai_usage_hours</th>\n",
              "      <td>500.0</td>\n",
              "      <td>1.51092</td>\n",
              "      <td>1.085557</td>\n",
              "      <td>0.0</td>\n",
              "      <td>0.6975</td>\n",
              "      <td>1.26</td>\n",
              "      <td>2.070</td>\n",
              "      <td>6.36</td>\n",
              "    </tr>\n",
              "    <tr>\n",
              "      <th>cognitive_load</th>\n",
              "      <td>500.0</td>\n",
              "      <td>4.49820</td>\n",
              "      <td>1.868861</td>\n",
              "      <td>1.0</td>\n",
              "      <td>3.1750</td>\n",
              "      <td>4.40</td>\n",
              "      <td>5.800</td>\n",
              "      <td>10.00</td>\n",
              "    </tr>\n",
              "    <tr>\n",
              "      <th>task_success</th>\n",
              "      <td>500.0</td>\n",
              "      <td>0.60600</td>\n",
              "      <td>0.489124</td>\n",
              "      <td>0.0</td>\n",
              "      <td>0.0000</td>\n",
              "      <td>1.00</td>\n",
              "      <td>1.000</td>\n",
              "      <td>1.00</td>\n",
              "    </tr>\n",
              "  </tbody>\n",
              "</table>\n",
              "</div>\n",
              "    <div class=\"colab-df-buttons\">\n",
              "\n",
              "  <div class=\"colab-df-container\">\n",
              "    <button class=\"colab-df-convert\" onclick=\"convertToInteractive('df-75b9a326-7599-4f9c-8183-cbef80ee2e76')\"\n",
              "            title=\"Convert this dataframe to an interactive table.\"\n",
              "            style=\"display:none;\">\n",
              "\n",
              "  <svg xmlns=\"http://www.w3.org/2000/svg\" height=\"24px\" viewBox=\"0 -960 960 960\">\n",
              "    <path d=\"M120-120v-720h720v720H120Zm60-500h600v-160H180v160Zm220 220h160v-160H400v160Zm0 220h160v-160H400v160ZM180-400h160v-160H180v160Zm440 0h160v-160H620v160ZM180-180h160v-160H180v160Zm440 0h160v-160H620v160Z\"/>\n",
              "  </svg>\n",
              "    </button>\n",
              "\n",
              "  <style>\n",
              "    .colab-df-container {\n",
              "      display:flex;\n",
              "      gap: 12px;\n",
              "    }\n",
              "\n",
              "    .colab-df-convert {\n",
              "      background-color: #E8F0FE;\n",
              "      border: none;\n",
              "      border-radius: 50%;\n",
              "      cursor: pointer;\n",
              "      display: none;\n",
              "      fill: #1967D2;\n",
              "      height: 32px;\n",
              "      padding: 0 0 0 0;\n",
              "      width: 32px;\n",
              "    }\n",
              "\n",
              "    .colab-df-convert:hover {\n",
              "      background-color: #E2EBFA;\n",
              "      box-shadow: 0px 1px 2px rgba(60, 64, 67, 0.3), 0px 1px 3px 1px rgba(60, 64, 67, 0.15);\n",
              "      fill: #174EA6;\n",
              "    }\n",
              "\n",
              "    .colab-df-buttons div {\n",
              "      margin-bottom: 4px;\n",
              "    }\n",
              "\n",
              "    [theme=dark] .colab-df-convert {\n",
              "      background-color: #3B4455;\n",
              "      fill: #D2E3FC;\n",
              "    }\n",
              "\n",
              "    [theme=dark] .colab-df-convert:hover {\n",
              "      background-color: #434B5C;\n",
              "      box-shadow: 0px 1px 3px 1px rgba(0, 0, 0, 0.15);\n",
              "      filter: drop-shadow(0px 1px 2px rgba(0, 0, 0, 0.3));\n",
              "      fill: #FFFFFF;\n",
              "    }\n",
              "  </style>\n",
              "\n",
              "    <script>\n",
              "      const buttonEl =\n",
              "        document.querySelector('#df-75b9a326-7599-4f9c-8183-cbef80ee2e76 button.colab-df-convert');\n",
              "      buttonEl.style.display =\n",
              "        google.colab.kernel.accessAllowed ? 'block' : 'none';\n",
              "\n",
              "      async function convertToInteractive(key) {\n",
              "        const element = document.querySelector('#df-75b9a326-7599-4f9c-8183-cbef80ee2e76');\n",
              "        const dataTable =\n",
              "          await google.colab.kernel.invokeFunction('convertToInteractive',\n",
              "                                                    [key], {});\n",
              "        if (!dataTable) return;\n",
              "\n",
              "        const docLinkHtml = 'Like what you see? Visit the ' +\n",
              "          '<a target=\"_blank\" href=https://colab.research.google.com/notebooks/data_table.ipynb>data table notebook</a>'\n",
              "          + ' to learn more about interactive tables.';\n",
              "        element.innerHTML = '';\n",
              "        dataTable['output_type'] = 'display_data';\n",
              "        await google.colab.output.renderOutput(dataTable, element);\n",
              "        const docLink = document.createElement('div');\n",
              "        docLink.innerHTML = docLinkHtml;\n",
              "        element.appendChild(docLink);\n",
              "      }\n",
              "    </script>\n",
              "  </div>\n",
              "\n",
              "\n",
              "    <div id=\"df-185bba92-4af2-45e3-a0dc-7499a4bdbf82\">\n",
              "      <button class=\"colab-df-quickchart\" onclick=\"quickchart('df-185bba92-4af2-45e3-a0dc-7499a4bdbf82')\"\n",
              "                title=\"Suggest charts\"\n",
              "                style=\"display:none;\">\n",
              "\n",
              "<svg xmlns=\"http://www.w3.org/2000/svg\" height=\"24px\"viewBox=\"0 0 24 24\"\n",
              "     width=\"24px\">\n",
              "    <g>\n",
              "        <path d=\"M19 3H5c-1.1 0-2 .9-2 2v14c0 1.1.9 2 2 2h14c1.1 0 2-.9 2-2V5c0-1.1-.9-2-2-2zM9 17H7v-7h2v7zm4 0h-2V7h2v10zm4 0h-2v-4h2v4z\"/>\n",
              "    </g>\n",
              "</svg>\n",
              "      </button>\n",
              "\n",
              "<style>\n",
              "  .colab-df-quickchart {\n",
              "      --bg-color: #E8F0FE;\n",
              "      --fill-color: #1967D2;\n",
              "      --hover-bg-color: #E2EBFA;\n",
              "      --hover-fill-color: #174EA6;\n",
              "      --disabled-fill-color: #AAA;\n",
              "      --disabled-bg-color: #DDD;\n",
              "  }\n",
              "\n",
              "  [theme=dark] .colab-df-quickchart {\n",
              "      --bg-color: #3B4455;\n",
              "      --fill-color: #D2E3FC;\n",
              "      --hover-bg-color: #434B5C;\n",
              "      --hover-fill-color: #FFFFFF;\n",
              "      --disabled-bg-color: #3B4455;\n",
              "      --disabled-fill-color: #666;\n",
              "  }\n",
              "\n",
              "  .colab-df-quickchart {\n",
              "    background-color: var(--bg-color);\n",
              "    border: none;\n",
              "    border-radius: 50%;\n",
              "    cursor: pointer;\n",
              "    display: none;\n",
              "    fill: var(--fill-color);\n",
              "    height: 32px;\n",
              "    padding: 0;\n",
              "    width: 32px;\n",
              "  }\n",
              "\n",
              "  .colab-df-quickchart:hover {\n",
              "    background-color: var(--hover-bg-color);\n",
              "    box-shadow: 0 1px 2px rgba(60, 64, 67, 0.3), 0 1px 3px 1px rgba(60, 64, 67, 0.15);\n",
              "    fill: var(--button-hover-fill-color);\n",
              "  }\n",
              "\n",
              "  .colab-df-quickchart-complete:disabled,\n",
              "  .colab-df-quickchart-complete:disabled:hover {\n",
              "    background-color: var(--disabled-bg-color);\n",
              "    fill: var(--disabled-fill-color);\n",
              "    box-shadow: none;\n",
              "  }\n",
              "\n",
              "  .colab-df-spinner {\n",
              "    border: 2px solid var(--fill-color);\n",
              "    border-color: transparent;\n",
              "    border-bottom-color: var(--fill-color);\n",
              "    animation:\n",
              "      spin 1s steps(1) infinite;\n",
              "  }\n",
              "\n",
              "  @keyframes spin {\n",
              "    0% {\n",
              "      border-color: transparent;\n",
              "      border-bottom-color: var(--fill-color);\n",
              "      border-left-color: var(--fill-color);\n",
              "    }\n",
              "    20% {\n",
              "      border-color: transparent;\n",
              "      border-left-color: var(--fill-color);\n",
              "      border-top-color: var(--fill-color);\n",
              "    }\n",
              "    30% {\n",
              "      border-color: transparent;\n",
              "      border-left-color: var(--fill-color);\n",
              "      border-top-color: var(--fill-color);\n",
              "      border-right-color: var(--fill-color);\n",
              "    }\n",
              "    40% {\n",
              "      border-color: transparent;\n",
              "      border-right-color: var(--fill-color);\n",
              "      border-top-color: var(--fill-color);\n",
              "    }\n",
              "    60% {\n",
              "      border-color: transparent;\n",
              "      border-right-color: var(--fill-color);\n",
              "    }\n",
              "    80% {\n",
              "      border-color: transparent;\n",
              "      border-right-color: var(--fill-color);\n",
              "      border-bottom-color: var(--fill-color);\n",
              "    }\n",
              "    90% {\n",
              "      border-color: transparent;\n",
              "      border-bottom-color: var(--fill-color);\n",
              "    }\n",
              "  }\n",
              "</style>\n",
              "\n",
              "      <script>\n",
              "        async function quickchart(key) {\n",
              "          const quickchartButtonEl =\n",
              "            document.querySelector('#' + key + ' button');\n",
              "          quickchartButtonEl.disabled = true;  // To prevent multiple clicks.\n",
              "          quickchartButtonEl.classList.add('colab-df-spinner');\n",
              "          try {\n",
              "            const charts = await google.colab.kernel.invokeFunction(\n",
              "                'suggestCharts', [key], {});\n",
              "          } catch (error) {\n",
              "            console.error('Error during call to suggestCharts:', error);\n",
              "          }\n",
              "          quickchartButtonEl.classList.remove('colab-df-spinner');\n",
              "          quickchartButtonEl.classList.add('colab-df-quickchart-complete');\n",
              "        }\n",
              "        (() => {\n",
              "          let quickchartButtonEl =\n",
              "            document.querySelector('#df-185bba92-4af2-45e3-a0dc-7499a4bdbf82 button');\n",
              "          quickchartButtonEl.style.display =\n",
              "            google.colab.kernel.accessAllowed ? 'block' : 'none';\n",
              "        })();\n",
              "      </script>\n",
              "    </div>\n",
              "\n",
              "    </div>\n",
              "  </div>\n"
            ],
            "application/vnd.google.colaboratory.intrinsic+json": {
              "type": "dataframe",
              "summary": "{\n  \"name\": \"df[num_cols]\",\n  \"rows\": 9,\n  \"fields\": [\n    {\n      \"column\": \"count\",\n      \"properties\": {\n        \"dtype\": \"number\",\n        \"std\": 0.0,\n        \"min\": 500.0,\n        \"max\": 500.0,\n        \"num_unique_values\": 1,\n        \"samples\": [\n          500.0\n        ],\n        \"semantic_type\": \"\",\n        \"description\": \"\"\n      }\n    },\n    {\n      \"column\": \"mean\",\n      \"properties\": {\n        \"dtype\": \"number\",\n        \"std\": 153.28502171379535,\n        \"min\": 0.606,\n        \"max\": 463.192,\n        \"num_unique_values\": 9,\n        \"samples\": [\n          4.4982\n        ],\n        \"semantic_type\": \"\",\n        \"description\": \"\"\n      }\n    },\n    {\n      \"column\": \"std\",\n      \"properties\": {\n        \"dtype\": \"number\",\n        \"std\": 46.93532899188035,\n        \"min\": 0.48912420198753354,\n        \"max\": 142.3349909026962,\n        \"num_unique_values\": 9,\n        \"samples\": [\n          1.8688611623360842\n        ],\n        \"semantic_type\": \"\",\n        \"description\": \"\"\n      }\n    },\n    {\n      \"column\": \"min\",\n      \"properties\": {\n        \"dtype\": \"number\",\n        \"std\": 2.0883273476902784,\n        \"min\": 0.0,\n        \"max\": 6.0,\n        \"num_unique_values\": 4,\n        \"samples\": [\n          6.0\n        ],\n        \"semantic_type\": \"\",\n        \"description\": \"\"\n      }\n    },\n    {\n      \"column\": \"25%\",\n      \"properties\": {\n        \"dtype\": \"number\",\n        \"std\": 122.40844758685978,\n        \"min\": 0.0,\n        \"max\": 369.5,\n        \"num_unique_values\": 8,\n        \"samples\": [\n          369.5\n        ],\n        \"semantic_type\": \"\",\n        \"description\": \"\"\n      }\n    },\n    {\n      \"column\": \"50%\",\n      \"properties\": {\n        \"dtype\": \"number\",\n        \"std\": 165.73873471856575,\n        \"min\": 0.0,\n        \"max\": 500.5,\n        \"num_unique_values\": 9,\n        \"samples\": [\n          4.4\n        ],\n        \"semantic_type\": \"\",\n        \"description\": \"\"\n      }\n    },\n    {\n      \"column\": \"75%\",\n      \"properties\": {\n        \"dtype\": \"number\",\n        \"std\": 198.55338782120486,\n        \"min\": 1.0,\n        \"max\": 600.0,\n        \"num_unique_values\": 9,\n        \"samples\": [\n          5.8\n        ],\n        \"semantic_type\": \"\",\n        \"description\": \"\"\n      }\n    },\n    {\n      \"column\": \"max\",\n      \"properties\": {\n        \"dtype\": \"number\",\n        \"std\": 197.31134156735928,\n        \"min\": 1.0,\n        \"max\": 600.0,\n        \"num_unique_values\": 8,\n        \"samples\": [\n          600.0\n        ],\n        \"semantic_type\": \"\",\n        \"description\": \"\"\n      }\n    }\n  ]\n}"
            }
          },
          "metadata": {},
          "execution_count": 9
        }
      ]
    },
    {
      "cell_type": "code",
      "source": [
        "#range santiy check to idenify outliers which may need to deal with\n",
        "checks = {\n",
        "    \"hours_coding\": (0, 24),\n",
        "    \"sleep_hours\": (0, 24),\n",
        "    \"coffee_intake_mg\": (0, 5000),\n",
        "    \"ai_usage_hours\": (0, 24),\n",
        "    \"distractions\": (0, 200),\n",
        "    \"commits\": (0, 1000),\n",
        "    \"bugs_reported\": (0, 1000),\n",
        "    \"cognitive_load\": (1, 10)\n",
        "}\n",
        "violations = {}\n",
        "for col, (lo, hi) in checks.items():\n",
        "    if col in df.columns:\n",
        "        bad = df[(df[col] < lo) | (df[col] > hi)]\n",
        "        if len(bad) > 0:\n",
        "            violations[col] = bad.shape[0]\n",
        "violations"
      ],
      "metadata": {
        "colab": {
          "base_uri": "https://localhost:8080/"
        },
        "id": "w7JwrW9fdA78",
        "outputId": "71467e11-aac2-43de-a49b-d03c81640e41"
      },
      "id": "w7JwrW9fdA78",
      "execution_count": 10,
      "outputs": [
        {
          "output_type": "execute_result",
          "data": {
            "text/plain": [
              "{}"
            ]
          },
          "metadata": {},
          "execution_count": 10
        }
      ]
    },
    {
      "cell_type": "code",
      "source": [
        "# checking unique values and frequency for categorical columns\n",
        "summary_cats = {}\n",
        "for c in cat_cols:\n",
        "    summary_cats[c] = {\n",
        "        \"n_unique\": df[c].nunique(dropna=False),\n",
        "        \"top_values\": df[c].value_counts(dropna=False).head(10).to_dict()\n",
        "    }\n",
        "summary_cats"
      ],
      "metadata": {
        "colab": {
          "base_uri": "https://localhost:8080/"
        },
        "id": "ENRDbXScdOUs",
        "outputId": "774fb291-14c1-4555-bc96-8d4f85e263d3"
      },
      "id": "ENRDbXScdOUs",
      "execution_count": 11,
      "outputs": [
        {
          "output_type": "execute_result",
          "data": {
            "text/plain": [
              "{}"
            ]
          },
          "metadata": {},
          "execution_count": 11
        }
      ]
    },
    {
      "cell_type": "code",
      "source": [
        "# ensure task_success is actually binary\n",
        "if \"task_success\" in df.columns:\n",
        "    mapping = {\"yes\": 1, \"no\": 0, \"true\": 1, \"false\": 0, \"y\": 1, \"n\": 0}\n",
        "    if df[\"task_success\"].dtype == \"object\":\n",
        "        df[\"task_success\"] = df[\"task_success\"].str.strip().str.lower().map(mapping).fillna(df[\"task_success\"])\n",
        "    if df[\"task_success\"].dtype == \"bool\":\n",
        "        df[\"task_success\"] = df[\"task_success\"].astype(int)\n",
        "    if pd.api.types.is_numeric_dtype(df[\"task_success\"]):\n",
        "        df[\"task_success\"] = df[\"task_success\"].astype(int)\n",
        "\n",
        "df[\"task_success\"].value_counts(dropna=False, normalize=True) if \"task_success\" in df.columns else \"task_success not found\""
      ],
      "metadata": {
        "colab": {
          "base_uri": "https://localhost:8080/",
          "height": 178
        },
        "id": "dKECIfxTdTft",
        "outputId": "c709b1f1-8d9d-4cf2-a19e-eeb90639963d"
      },
      "id": "dKECIfxTdTft",
      "execution_count": 12,
      "outputs": [
        {
          "output_type": "execute_result",
          "data": {
            "text/plain": [
              "task_success\n",
              "1    0.606\n",
              "0    0.394\n",
              "Name: proportion, dtype: float64"
            ],
            "text/html": [
              "<div>\n",
              "<style scoped>\n",
              "    .dataframe tbody tr th:only-of-type {\n",
              "        vertical-align: middle;\n",
              "    }\n",
              "\n",
              "    .dataframe tbody tr th {\n",
              "        vertical-align: top;\n",
              "    }\n",
              "\n",
              "    .dataframe thead th {\n",
              "        text-align: right;\n",
              "    }\n",
              "</style>\n",
              "<table border=\"1\" class=\"dataframe\">\n",
              "  <thead>\n",
              "    <tr style=\"text-align: right;\">\n",
              "      <th></th>\n",
              "      <th>proportion</th>\n",
              "    </tr>\n",
              "    <tr>\n",
              "      <th>task_success</th>\n",
              "      <th></th>\n",
              "    </tr>\n",
              "  </thead>\n",
              "  <tbody>\n",
              "    <tr>\n",
              "      <th>1</th>\n",
              "      <td>0.606</td>\n",
              "    </tr>\n",
              "    <tr>\n",
              "      <th>0</th>\n",
              "      <td>0.394</td>\n",
              "    </tr>\n",
              "  </tbody>\n",
              "</table>\n",
              "</div><br><label><b>dtype:</b> float64</label>"
            ]
          },
          "metadata": {},
          "execution_count": 12
        }
      ]
    },
    {
      "cell_type": "code",
      "source": [
        "# compute outlier counts per numeric column using iqr rule\n",
        "outlier_counts = {}\n",
        "for c in num_cols:\n",
        "    q1 = df[c].quantile(0.25)\n",
        "    q3 = df[c].quantile(0.75)\n",
        "    iqr = q3 - q1\n",
        "    if iqr == 0:\n",
        "        outlier_counts[c] = 0\n",
        "        continue\n",
        "    lower = q1 - 1.5 * iqr\n",
        "    upper = q3 + 1.5 * iqr\n",
        "    outlier_counts[c] = int(((df[c] < lower) | (df[c] > upper)).sum())\n",
        "outlier_counts"
      ],
      "metadata": {
        "colab": {
          "base_uri": "https://localhost:8080/"
        },
        "id": "AwMKavV0dnT8",
        "outputId": "be3362a8-1974-4629-bf01-cee8e5004abf"
      },
      "id": "AwMKavV0dnT8",
      "execution_count": 13,
      "outputs": [
        {
          "output_type": "execute_result",
          "data": {
            "text/plain": [
              "{'hours_coding': 3,\n",
              " 'coffee_intake_mg': 1,\n",
              " 'distractions': 1,\n",
              " 'sleep_hours': 5,\n",
              " 'commits': 10,\n",
              " 'bugs_reported': 0,\n",
              " 'ai_usage_hours': 14,\n",
              " 'cognitive_load': 1,\n",
              " 'task_success': 0}"
            ]
          },
          "metadata": {},
          "execution_count": 13
        }
      ]
    },
    {
      "cell_type": "code",
      "source": [
        "# drop exact duplicate rows if any existed\n",
        "df_clean = df.drop_duplicates().copy()\n",
        "\n",
        "# strip whitespace in string columns\n",
        "for c in df_clean.select_dtypes(include=[\"object\"]).columns:\n",
        "    df_clean[c] = df_clean[c].astype(str).str.strip()\n",
        "\n",
        "# re-check shape after cleaning\n",
        "df.shape, df_clean.shape\n"
      ],
      "metadata": {
        "colab": {
          "base_uri": "https://localhost:8080/"
        },
        "id": "ScZ099eZdqKO",
        "outputId": "ec7e7a66-dd6b-4120-aeae-d4fb77414c74"
      },
      "id": "ScZ099eZdqKO",
      "execution_count": 14,
      "outputs": [
        {
          "output_type": "execute_result",
          "data": {
            "text/plain": [
              "((500, 9), (500, 9))"
            ]
          },
          "metadata": {},
          "execution_count": 14
        }
      ]
    },
    {
      "cell_type": "markdown",
      "source": [
        "# Initial Visualizations\n",
        "\n",
        "To get an early sense of the dataset, i will generate a few simple plots:"
      ],
      "metadata": {
        "id": "96B7K1GvfPT_"
      },
      "id": "96B7K1GvfPT_"
    },
    {
      "cell_type": "code",
      "source": [
        "import matplotlib.pyplot as plt\n",
        "import seaborn as sns\n",
        "\n",
        "df.hist(figsize=(10,8), bins=20)\n",
        "plt.tight_layout()\n",
        "plt.show()\n"
      ],
      "metadata": {
        "colab": {
          "base_uri": "https://localhost:8080/",
          "height": 494
        },
        "id": "PFSRaYSffVND",
        "outputId": "48e89c37-c555-44c6-9b7b-c0c0244dd956"
      },
      "id": "PFSRaYSffVND",
      "execution_count": 19,
      "outputs": [
        {
          "output_type": "display_data",
          "data": {
            "text/plain": [
              "<Figure size 1000x800 with 9 Axes>"
            ],
            "image/png": "[encoded data removed]"
          },
          "metadata": {}
        }
      ]
    },
    {
      "cell_type": "code",
      "source": [
        "# class balance for task_success\n",
        "sns.countplot(x=\"task_success\", data=df)\n",
        "plt.title(\"task_success distribution (0 = not achieved, 1 = achieved)\")\n",
        "plt.show()\n"
      ],
      "metadata": {
        "colab": {
          "base_uri": "https://localhost:8080/",
          "height": 472
        },
        "id": "5PVnf3JjfbL4",
        "outputId": "860396f2-f429-43d1-80c7-2c8ac99ae04e"
      },
      "id": "5PVnf3JjfbL4",
      "execution_count": 21,
      "outputs": [
        {
          "output_type": "display_data",
          "data": {
            "text/plain": [
              "<Figure size 640x480 with 1 Axes>"
            ],
            "image/png": "[encoded data removed]"
          },
          "metadata": {}
        }
      ]
    },
    {
      "cell_type": "markdown",
      "source": [
        "# **Hypothesis testing plan**\n",
        "\n",
        "For this project, I am interested in testing specific questions about factors that may influence task success (0 = not achieved, 1 = achieved).  \n",
        "\n",
        "The questions I want to ask include:  \n",
        "1. do developers who spend more hours coding have a higher likelihood of completing their tasks?  \n",
        "   - expected result: we may see that average coding hours are higher on successful days.  \n",
        "   - method: compare mean `hours_coding` between task_success = 0 and task_success = 1 (two-sample t-test or nonparametric test if needed).  \n",
        "\n",
        "2. does sleep make a difference in whether a task is completed?  \n",
        "   - expected result: successful days may align with a healthier range of `sleep_hours`, while lack of sleep could lower success rates.  \n",
        "   - method: compare mean `sleep_hours` across success vs failure days.  \n",
        "\n",
        "3. do distractions reduce productivity?  \n",
        "   - expected result: unsuccessful days may have more distractions on average.  \n",
        "   - method: compare mean `distractions` across groups.  \n",
        "\n",
        "4. are certain behavioral factors overall associated with task success?  \n",
        "   - expected result: variables like `ai_usage_hours`, `coffee_intake_mg`, and `cognitive_load` may show positive or negative relationships with task completion.  \n",
        "   - method: measure statistical association (correlation with the binary task_success variable).  \n",
        "\n",
        "Overall goal: to identify which personal and work-related factors have a measurable relationship with task success, so that we can highlight practices (like balanced coding hours, sufficient sleep, fewer distractions) that seem linked to better outcomes. this step will build the foundation for deeper analysis using regression later.\n"
      ],
      "metadata": {
        "id": "2RcFtIHOgR0g"
      },
      "id": "2RcFtIHOgR0g"
    },
    {
      "cell_type": "markdown",
      "source": [
        "# **References**\n",
        "\n",
        "- kaggle (2024). *ai developer productivity dataset*. available at: https://www.kaggle.com/datasets/atharvasoundankar/ai-developer-productivity-dataset  \n",
        "\n",
        "- wickham, h. & grolemund, g. (2017). *r for data science*. o’reilly media. chapter on exploratory data analysis. available at: https://r4ds.had.co.nz/exploratory-data-analysis.html  \n",
        "\n",
        "- personal github repository. *ai developer productivity project*. repository maintained to document analysis, code, and findings for this project: https://github.com/uday1o1/ai-developer-productivity-project.git\n",
        "\n",
        "- openai gpt-5 (2025). used as a learning assistant to clarify methods and concepts.  \n",
        "  prompts used for self-learning included:  \n",
        "  - \"how can i check for outliers in continuous variables for this dataset?\"  \n",
        "  - \"what is the difference between using 0/1 and yes/no for a categorical variable in regression analysis?\"  \n"
      ],
      "metadata": {
        "id": "tZYtbTa9h7CJ"
      },
      "id": "tZYtbTa9h7CJ"
    },
    {
      "cell_type": "code",
      "source": [],
      "metadata": {
        "id": "_O4a-5YujZD7"
      },
      "id": "_O4a-5YujZD7",
      "execution_count": null,
      "outputs": []
    }
  ],
  "metadata": {
    "colab": {
      "provenance": []
    },
    "language_info": {
      "name": "python"
    },
    "kernelspec": {
      "name": "python3",
      "display_name": "Python 3"
    }
  },
  "nbformat": 4,
  "nbformat_minor": 5
}